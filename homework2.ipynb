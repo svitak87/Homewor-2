{
 "cells": [
  {
   "cell_type": "code",
   "execution_count": 2,
   "metadata": {},
   "outputs": [],
   "source": [
    "#1Crear una variable que contenga un elemento del conjunto de números enteros y luego imprimir por pantalla\n",
    "mi_variable = 456"
   ]
  },
  {
   "cell_type": "code",
   "execution_count": 3,
   "metadata": {},
   "outputs": [
    {
     "name": "stdout",
     "output_type": "stream",
     "text": [
      "456\n"
     ]
    }
   ],
   "source": [
    "print(mi_variable)"
   ]
  },
  {
   "cell_type": "code",
   "execution_count": 4,
   "metadata": {},
   "outputs": [],
   "source": [
    "#2Imprimir el tipo de dato de la constante 8.5\n",
    "constante = 8.5"
   ]
  },
  {
   "cell_type": "code",
   "execution_count": 5,
   "metadata": {},
   "outputs": [
    {
     "data": {
      "text/plain": [
       "float"
      ]
     },
     "execution_count": 5,
     "metadata": {},
     "output_type": "execute_result"
    }
   ],
   "source": [
    "type(constante)"
   ]
  },
  {
   "cell_type": "code",
   "execution_count": 6,
   "metadata": {},
   "outputs": [
    {
     "data": {
      "text/plain": [
       "int"
      ]
     },
     "execution_count": 6,
     "metadata": {},
     "output_type": "execute_result"
    }
   ],
   "source": [
    "#3Imprimir el tipo de dato de la variable creada en el punto 1\n",
    "type(mi_variable)"
   ]
  },
  {
   "cell_type": "code",
   "execution_count": 44,
   "metadata": {},
   "outputs": [],
   "source": [
    "#4Crear una variable que contenga tu nombre\n",
    "nombre = \"Oscar Javier Fajardo\""
   ]
  },
  {
   "cell_type": "code",
   "execution_count": 9,
   "metadata": {},
   "outputs": [],
   "source": [
    "#5Crear una variable que contenga un número complejo\n",
    "numero_complex = 4+1j"
   ]
  },
  {
   "cell_type": "code",
   "execution_count": 10,
   "metadata": {},
   "outputs": [
    {
     "data": {
      "text/plain": [
       "complex"
      ]
     },
     "execution_count": 10,
     "metadata": {},
     "output_type": "execute_result"
    }
   ],
   "source": [
    "#6Mostrar el tipo de dato de la variable crada en el punto 5\n",
    "type(numero_complex)"
   ]
  },
  {
   "cell_type": "code",
   "execution_count": 11,
   "metadata": {},
   "outputs": [],
   "source": [
    "#7Crear una variable que contenga el valor del número Pi redondeado a 4 decimales\n",
    "pi = 3.1416"
   ]
  },
  {
   "cell_type": "code",
   "execution_count": 14,
   "metadata": {},
   "outputs": [
    {
     "data": {
      "text/plain": [
       "'No'"
      ]
     },
     "execution_count": 14,
     "metadata": {},
     "output_type": "execute_result"
    }
   ],
   "source": [
    "#8Crear una variable que contenga el valor 'True' y otra que contenga el valor True. ¿Se trata de lo mismo?\n",
    "variable1 = 'True'\n",
    "variable2 = True\n",
    "\"No\""
   ]
  },
  {
   "cell_type": "code",
   "execution_count": 15,
   "metadata": {},
   "outputs": [
    {
     "data": {
      "text/plain": [
       "bool"
      ]
     },
     "execution_count": 15,
     "metadata": {},
     "output_type": "execute_result"
    }
   ],
   "source": [
    "#9Imprimir el tipo de dato correspondientes a las variables creadas en el punto 9\n",
    "type(variable1 and variable2)"
   ]
  },
  {
   "cell_type": "code",
   "execution_count": 17,
   "metadata": {},
   "outputs": [],
   "source": [
    "#10Asignar a una variable, la suma de un número entero y otro decimal\n",
    "entero = 456\n",
    "decimal = 97.25\n",
    "resultado = entero + decimal"
   ]
  },
  {
   "cell_type": "code",
   "execution_count": 45,
   "metadata": {},
   "outputs": [
    {
     "name": "stdout",
     "output_type": "stream",
     "text": [
      "553.25\n"
     ]
    }
   ],
   "source": [
    "print(resultado)"
   ]
  },
  {
   "cell_type": "code",
   "execution_count": 18,
   "metadata": {},
   "outputs": [],
   "source": [
    "#11Realizar una operación de suma de números complejos\n",
    "complex1 = 45 + 1j\n",
    "complex2 = 77 + 3j"
   ]
  },
  {
   "cell_type": "code",
   "execution_count": 19,
   "metadata": {},
   "outputs": [
    {
     "name": "stdout",
     "output_type": "stream",
     "text": [
      "(122+4j)\n"
     ]
    }
   ],
   "source": [
    "print(complex1 + complex2)"
   ]
  },
  {
   "cell_type": "code",
   "execution_count": 20,
   "metadata": {},
   "outputs": [],
   "source": [
    "#12Realizar una operación de suma de un número real y otro complejo\n",
    "numero_real = 456.24\n",
    "numero_complejo = 77 + 3j"
   ]
  },
  {
   "cell_type": "code",
   "execution_count": 21,
   "metadata": {},
   "outputs": [
    {
     "name": "stdout",
     "output_type": "stream",
     "text": [
      "(533.24+3j)\n"
     ]
    }
   ],
   "source": [
    "print(numero_real + numero_complejo)"
   ]
  },
  {
   "cell_type": "code",
   "execution_count": 22,
   "metadata": {},
   "outputs": [],
   "source": [
    "#13Realizar una operación de multiplicación\n",
    "numero1 = 2456\n",
    "numero2 = 256"
   ]
  },
  {
   "cell_type": "code",
   "execution_count": 23,
   "metadata": {},
   "outputs": [
    {
     "name": "stdout",
     "output_type": "stream",
     "text": [
      "628736\n"
     ]
    }
   ],
   "source": [
    "print(numero1 * numero2)"
   ]
  },
  {
   "cell_type": "code",
   "execution_count": 30,
   "metadata": {},
   "outputs": [],
   "source": [
    "#14Mostrar el resultado de elevar 2 a la octava potencia\n",
    "y = 2\n",
    "x = 8\n"
   ]
  },
  {
   "cell_type": "code",
   "execution_count": 32,
   "metadata": {},
   "outputs": [
    {
     "name": "stdout",
     "output_type": "stream",
     "text": [
      "256\n"
     ]
    }
   ],
   "source": [
    "print(y**x)"
   ]
  },
  {
   "cell_type": "code",
   "execution_count": 37,
   "metadata": {},
   "outputs": [],
   "source": [
    "#15Obtener el cociente de la división de 27 entre 4 en una variable y luego mostrarla\n",
    "y = 27\n",
    "x = 4\n"
   ]
  },
  {
   "cell_type": "code",
   "execution_count": 38,
   "metadata": {},
   "outputs": [
    {
     "name": "stdout",
     "output_type": "stream",
     "text": [
      "6.75\n"
     ]
    }
   ],
   "source": [
    "print(y/x)"
   ]
  },
  {
   "cell_type": "code",
   "execution_count": 40,
   "metadata": {},
   "outputs": [],
   "source": [
    "#16De la división anterior solamente mostrar la parte entera\n",
    "y = 27\n",
    "x = 4"
   ]
  },
  {
   "cell_type": "code",
   "execution_count": 41,
   "metadata": {},
   "outputs": [
    {
     "name": "stdout",
     "output_type": "stream",
     "text": [
      "6\n"
     ]
    }
   ],
   "source": [
    "print(y//x)"
   ]
  },
  {
   "cell_type": "code",
   "execution_count": 42,
   "metadata": {},
   "outputs": [],
   "source": [
    "#17De la división de 27 entre 4 mostrar solamente el resto\n",
    "y = 27\n",
    "x = 4"
   ]
  },
  {
   "cell_type": "code",
   "execution_count": 43,
   "metadata": {},
   "outputs": [
    {
     "name": "stdout",
     "output_type": "stream",
     "text": [
      "3\n"
     ]
    }
   ],
   "source": [
    "print(y%x)"
   ]
  },
  {
   "cell_type": "code",
   "execution_count": 48,
   "metadata": {},
   "outputs": [],
   "source": [
    "#18Utilizando como operandos el número 4 y los resultados obtenidos en los puntos 16 y 17. Obtener 27 como resultado\n",
    "a = 4\n",
    "b = 6\n",
    "c = 3\n",
    "result = (a * b + c)"
   ]
  },
  {
   "cell_type": "code",
   "execution_count": 49,
   "metadata": {},
   "outputs": [
    {
     "name": "stdout",
     "output_type": "stream",
     "text": [
      "27\n"
     ]
    }
   ],
   "source": [
    "print(result)"
   ]
  },
  {
   "cell_type": "code",
   "execution_count": 60,
   "metadata": {},
   "outputs": [],
   "source": [
    "#19Utilizar el operador \"+\" en una operación donde intervengan solo variables alfanuméricas\n",
    "\n",
    "x = \"hola\"\n",
    "y = \"mundo\"\n",
    "result = (x  +  y)"
   ]
  },
  {
   "cell_type": "code",
   "execution_count": 61,
   "metadata": {},
   "outputs": [
    {
     "name": "stdout",
     "output_type": "stream",
     "text": [
      "holamundo\n"
     ]
    }
   ],
   "source": [
    "print(result)"
   ]
  },
  {
   "cell_type": "code",
   "execution_count": 64,
   "metadata": {},
   "outputs": [],
   "source": [
    "#20Evaluar si \"2\" es igual a 2. ¿Por qué ocurre eso?\n",
    "m = \"2\"\n",
    "n = 2 \n",
    "\"no es igual porque m es una variable string; mientras que n es un número entero\"\n"
   ]
  },
  {
   "cell_type": "code",
   "execution_count": 66,
   "metadata": {},
   "outputs": [],
   "source": [
    "#21Utilizar las funciones de cambio de tipo de dato, para que la validación del punto 20 resulte verdadera\n",
    "m = \"2\"\n",
    "n = 2\n",
    "result = (m!=n)"
   ]
  },
  {
   "cell_type": "code",
   "execution_count": 67,
   "metadata": {},
   "outputs": [
    {
     "name": "stdout",
     "output_type": "stream",
     "text": [
      "True\n"
     ]
    }
   ],
   "source": [
    "print(result)"
   ]
  },
  {
   "cell_type": "code",
   "execution_count": 69,
   "metadata": {},
   "outputs": [
    {
     "ename": "ValueError",
     "evalue": "could not convert string to float: '3,8'",
     "output_type": "error",
     "traceback": [
      "\u001b[1;31m---------------------------------------------------------------------------\u001b[0m",
      "\u001b[1;31mValueError\u001b[0m                                Traceback (most recent call last)",
      "Cell \u001b[1;32mIn[69], line 2\u001b[0m\n\u001b[0;32m      1\u001b[0m \u001b[39m#22¿Por qué arroja error el siguiente cambio de tipo de datos? a = float('3,8')\u001b[39;00m\n\u001b[1;32m----> 2\u001b[0m a \u001b[39m=\u001b[39m \u001b[39mfloat\u001b[39;49m(\u001b[39m'\u001b[39;49m\u001b[39m3,8\u001b[39;49m\u001b[39m'\u001b[39;49m)\n\u001b[0;32m      3\u001b[0m \u001b[39m#Porque el número flotante está con coma (,) y no con punto (.)\u001b[39;00m\n",
      "\u001b[1;31mValueError\u001b[0m: could not convert string to float: '3,8'"
     ]
    }
   ],
   "source": [
    "#22¿Por qué arroja error el siguiente cambio de tipo de datos? a = float('3,8')\n",
    "a = float('3,8')\n",
    "#Porque el número flotante está con coma (,) y no con punto (.)"
   ]
  },
  {
   "cell_type": "code",
   "execution_count": 73,
   "metadata": {},
   "outputs": [
    {
     "name": "stdout",
     "output_type": "stream",
     "text": [
      "1\n"
     ]
    }
   ],
   "source": [
    "#23Crear una variable con el valor 3, y utilizar el operador '-=' para modificar su contenido\n",
    "x = 3\n",
    "x -= 2\n",
    "print(x)"
   ]
  },
  {
   "cell_type": "code",
   "execution_count": 74,
   "metadata": {},
   "outputs": [],
   "source": [
    "#24Realizar la operacion 1 << 2 ¿Por qué da ese resultado? ¿Qué es el sistema de numeración binario?\n",
    "x = 1\n",
    "y = 2\n",
    "c = (x << y)"
   ]
  },
  {
   "cell_type": "code",
   "execution_count": 75,
   "metadata": {},
   "outputs": [
    {
     "name": "stdout",
     "output_type": "stream",
     "text": [
      "4\n"
     ]
    }
   ],
   "source": [
    "print(c)"
   ]
  },
  {
   "cell_type": "code",
   "execution_count": 77,
   "metadata": {},
   "outputs": [
    {
     "ename": "TypeError",
     "evalue": "unsupported operand type(s) for +: 'int' and 'str'",
     "output_type": "error",
     "traceback": [
      "\u001b[1;31m---------------------------------------------------------------------------\u001b[0m",
      "\u001b[1;31mTypeError\u001b[0m                                 Traceback (most recent call last)",
      "Cell \u001b[1;32mIn[77], line 5\u001b[0m\n\u001b[0;32m      3\u001b[0m ñ \u001b[39m=\u001b[39m \u001b[39m2\u001b[39m\n\u001b[0;32m      4\u001b[0m m \u001b[39m=\u001b[39m \u001b[39m'\u001b[39m\u001b[39m2\u001b[39m\u001b[39m'\u001b[39m \n\u001b[1;32m----> 5\u001b[0m n \u001b[39m=\u001b[39m (ñ \u001b[39m+\u001b[39;49m m)\n\u001b[0;32m      7\u001b[0m \u001b[39m#Porque no se pueden hacer operaciones entre un valor entero y un string\u001b[39;00m\n\u001b[0;32m      8\u001b[0m \u001b[39m#Sí\u001b[39;00m\n",
      "\u001b[1;31mTypeError\u001b[0m: unsupported operand type(s) for +: 'int' and 'str'"
     ]
    }
   ],
   "source": [
    "#25Realizar la operación 2 + '2' ¿Por qué no está permitido? ¿Si los dos operandos serían del mismo tipo, \n",
    "#siempre arrojaría el mismo resultado?\n",
    "ñ = 2\n",
    "m = '2' \n",
    "n = (ñ + m)\n",
    "\n",
    "#Porque no se pueden hacer operaciones entre un valor entero y un string\n",
    "#Sí"
   ]
  },
  {
   "cell_type": "code",
   "execution_count": 84,
   "metadata": {},
   "outputs": [],
   "source": [
    "#26Realizar una operación válida entre valores de tipo entero y string\n",
    "x = 25\n",
    "y = \"2b\"\n",
    "val = (x == y)"
   ]
  },
  {
   "cell_type": "code",
   "execution_count": 85,
   "metadata": {},
   "outputs": [
    {
     "name": "stdout",
     "output_type": "stream",
     "text": [
      "False\n"
     ]
    }
   ],
   "source": [
    "print(val)"
   ]
  }
 ],
 "metadata": {
  "kernelspec": {
   "display_name": "Python 3",
   "language": "python",
   "name": "python3"
  },
  "language_info": {
   "codemirror_mode": {
    "name": "ipython",
    "version": 3
   },
   "file_extension": ".py",
   "mimetype": "text/x-python",
   "name": "python",
   "nbconvert_exporter": "python",
   "pygments_lexer": "ipython3",
   "version": "3.11.2"
  },
  "orig_nbformat": 4
 },
 "nbformat": 4,
 "nbformat_minor": 2
}
